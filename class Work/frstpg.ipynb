{
 "cells": [
  {
   "cell_type": "code",
   "execution_count": null,
   "id": "4ed887db-3c06-4494-84ea-c1f5f4eff795",
   "metadata": {},
   "outputs": [],
   "source": [
    "#namiming convention\n",
    "#collections\n"
   ]
  },
  {
   "cell_type": "code",
   "execution_count": 1,
   "id": "91104ee5-68b2-4e6c-ab95-f0af94f2a824",
   "metadata": {},
   "outputs": [
    {
     "data": {
      "text/plain": [
       "([1, 2, 3, 4], 2045214809408, list)"
      ]
     },
     "execution_count": 1,
     "metadata": {},
     "output_type": "execute_result"
    }
   ],
   "source": [
    "list1 = [1,2,3,4]\n",
    "list1,id(list1),type(list1)"
   ]
  },
  {
   "cell_type": "code",
   "execution_count": 3,
   "id": "66a540ef-d4b0-47a0-ad67-e3217271fdff",
   "metadata": {},
   "outputs": [
    {
     "data": {
      "text/plain": [
       "((1, 2, 3), 2045214144064)"
      ]
     },
     "execution_count": 3,
     "metadata": {},
     "output_type": "execute_result"
    }
   ],
   "source": [
    "tuple1 = (1,2,3)\n",
    "tuple1, id(tuple1)"
   ]
  },
  {
   "cell_type": "code",
   "execution_count": 11,
   "id": "8cdf3057-53b2-4e53-9398-b783cb09ac4d",
   "metadata": {
    "jp-MarkdownHeadingCollapsed": true
   },
   "outputs": [
    {
     "data": {
      "text/plain": [
       "'Hi Python'"
      ]
     },
     "execution_count": 11,
     "metadata": {},
     "output_type": "execute_result"
    }
   ],
   "source": [
    "string1= \"Hi Python\"\n",
    "lenstr = len(string1)\n",
    "#print(lenstr)\n",
    "string1[0:9]"
   ]
  },
  {
   "cell_type": "code",
   "execution_count": 12,
   "id": "087ec6c9-350b-4d49-a36e-5c2b0994f16d",
   "metadata": {},
   "outputs": [
    {
     "name": "stdout",
     "output_type": "stream",
     "text": [
      "H\n",
      "i\n",
      " \n",
      "P\n",
      "y\n",
      "t\n",
      "h\n",
      "o\n",
      "n\n"
     ]
    }
   ],
   "source": [
    "for i in range(0,len(string1)):\n",
    "    print(string1[i])"
   ]
  },
  {
   "cell_type": "code",
   "execution_count": 13,
   "id": "7de58064-519e-4695-a10e-8cacfabf57bc",
   "metadata": {},
   "outputs": [
    {
     "name": "stdout",
     "output_type": "stream",
     "text": [
      "{'o', 'i', 'u', 'a', 'e'}\n"
     ]
    }
   ],
   "source": [
    "#sets\n",
    "\n",
    "vowels= {\"a\",\"e\",\"i\",\"o\",\"u\",\"a\",\"i\"}\n",
    "print(vowels)"
   ]
  },
  {
   "cell_type": "code",
   "execution_count": 15,
   "id": "28652891-c5df-499e-b1af-6b06ea8735f1",
   "metadata": {},
   "outputs": [
    {
     "name": "stdout",
     "output_type": "stream",
     "text": [
      "Rishav\n"
     ]
    }
   ],
   "source": [
    "#dictionary similar to JSON\n",
    "\n",
    "Dict = {\n",
    "    \"fname\" : \"Rishav\",\n",
    "    \"key1\": \"val1\",\n",
    "    \"key1\":\"val2\",\n",
    "\n",
    "    \"fname\" : \"Rishav\",\n",
    "    \"key3\": \"val3\",\n",
    "    \"key4\": \"val4\",\n",
    "}\n",
    "print(Dict[\"fname\"])"
   ]
  },
  {
   "cell_type": "code",
   "execution_count": 17,
   "id": "128b01dd-2ec6-4be9-9bd5-47574b349867",
   "metadata": {},
   "outputs": [
    {
     "name": "stdout",
     "output_type": "stream",
     "text": [
      "key is fnamevalue is Rishav\n",
      "key is key1value is val2\n",
      "key is key3value is val3\n",
      "key is key4value is val4\n"
     ]
    }
   ],
   "source": [
    "for key,val in Dict.items():\n",
    "    #print(f\"key is {key} val is {val}\") # fstring or format_method\n",
    "    print(\"key is \" + key + \"value is \" + val)"
   ]
  },
  {
   "cell_type": "code",
   "execution_count": 18,
   "id": "ee30a9ed-9269-4a5e-8483-c8ff147ccf7b",
   "metadata": {},
   "outputs": [
    {
     "name": "stdout",
     "output_type": "stream",
     "text": [
      "key is Name val is Rk\n"
     ]
    }
   ],
   "source": [
    "key = \"Name\"\n",
    "val = \"Rk\"\n",
    "fstr = f\"key is {key} val is {val}\"\n",
    "print(fstr)"
   ]
  },
  {
   "cell_type": "code",
   "execution_count": 19,
   "id": "2a1f2f5f-2d5a-4ba8-adb6-dfd8dfba4571",
   "metadata": {},
   "outputs": [
    {
     "data": {
      "text/plain": [
       "([[1, 2], [3, 4]], 2)"
      ]
     },
     "execution_count": 19,
     "metadata": {},
     "output_type": "execute_result"
    }
   ],
   "source": [
    "Row1 = [1,2]\n",
    "Row2 = [3,4]\n",
    "matrix = [Row1, Row2]\n",
    "matrix, len(matrix)"
   ]
  },
  {
   "cell_type": "code",
   "execution_count": 20,
   "id": "db1ed473-40ee-4076-ad7a-4a6f3b9926fb",
   "metadata": {},
   "outputs": [
    {
     "data": {
      "text/plain": [
       "[10, [3, 4]]"
      ]
     },
     "execution_count": 20,
     "metadata": {},
     "output_type": "execute_result"
    }
   ],
   "source": [
    "matrix[0] = 10\n",
    "matrix"
   ]
  },
  {
   "cell_type": "code",
   "execution_count": 21,
   "id": "5a5e7053-d488-4841-8608-fd86fe7a3783",
   "metadata": {},
   "outputs": [
    {
     "data": {
      "text/plain": [
       "([1, 2, 3, 4, 11, 2, 3, 4, 0, [3, 4]], 2045221630400, list)"
      ]
     },
     "execution_count": 21,
     "metadata": {},
     "output_type": "execute_result"
    }
   ],
   "source": [
    "listA = [1,2,3,4,11,2,3,4,0,[3,4]]\n",
    "listB = listA\n",
    "listA,id(listA),type(listA)"
   ]
  },
  {
   "cell_type": "code",
   "execution_count": 22,
   "id": "ac82f504-eee0-4bac-af78-a97a7e32eaf6",
   "metadata": {},
   "outputs": [
    {
     "data": {
      "text/plain": [
       "([0, 2, 3, 4, 11, 2, 3, 4, 0, [3, 4]], 2045221630400, list)"
      ]
     },
     "execution_count": 22,
     "metadata": {},
     "output_type": "execute_result"
    }
   ],
   "source": [
    "listB[0] = 0\n",
    "listB,id(listB),type(listB)"
   ]
  },
  {
   "cell_type": "code",
   "execution_count": 23,
   "id": "c9236aa7-8cb6-455b-b42a-f2d3945ec83b",
   "metadata": {},
   "outputs": [
    {
     "data": {
      "text/plain": [
       "([0, 2, 3, 4, 11, 2, 3, 4, 0, [3, 4, 100]], 2045221630400, list)"
      ]
     },
     "execution_count": 23,
     "metadata": {},
     "output_type": "execute_result"
    }
   ],
   "source": [
    "listB[len(listB)-1].append(100)\n",
    "listB,id(listB),type(listB)"
   ]
  },
  {
   "cell_type": "markdown",
   "id": "8cb1c847-54f0-4c13-9870-fb675848aa02",
   "metadata": {},
   "source": [
    "outer inner fn(09)"
   ]
  },
  {
   "cell_type": "code",
   "execution_count": 3,
   "id": "3ea7fcaa-05aa-4ff2-99fd-20d8b4ea3863",
   "metadata": {},
   "outputs": [],
   "source": [
    "x = 10  # Global variable\n",
    "\n",
    "\n",
    "def outer_function():\n",
    "    x = 20\n",
    "    def inner_function():\n",
    "        x = 30 \n",
    "        print(x)  \n",
    "    inner_function()\n",
    "    print(x)  "
   ]
  },
  {
   "cell_type": "code",
   "execution_count": 4,
   "id": "68fa00dc-a440-4ab9-ac0a-80975a68082a",
   "metadata": {},
   "outputs": [
    {
     "name": "stdout",
     "output_type": "stream",
     "text": [
      "30\n",
      "20\n",
      "10\n"
     ]
    }
   ],
   "source": [
    "outer_function()\n",
    "print(x)"
   ]
  },
  {
   "cell_type": "code",
   "execution_count": null,
   "id": "50ac729d-de8b-4a73-b4e8-214b4328877a",
   "metadata": {},
   "outputs": [],
   "source": []
  }
 ],
 "metadata": {
  "kernelspec": {
   "display_name": "Python 3 (ipykernel)",
   "language": "python",
   "name": "python3"
  },
  "language_info": {
   "codemirror_mode": {
    "name": "ipython",
    "version": 3
   },
   "file_extension": ".py",
   "mimetype": "text/x-python",
   "name": "python",
   "nbconvert_exporter": "python",
   "pygments_lexer": "ipython3",
   "version": "3.12.5"
  }
 },
 "nbformat": 4,
 "nbformat_minor": 5
}
