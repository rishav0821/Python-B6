{
 "cells": [
  {
   "cell_type": "code",
   "execution_count": 7,
   "id": "d69be388-fd6e-4e8d-b983-35c549668615",
   "metadata": {},
   "outputs": [
    {
     "name": "stdout",
     "output_type": "stream",
     "text": [
      "NAME:Rishav\n",
      "BATCH:B6\n",
      "SAP ID:590018271\n",
      "I am using Python version 3.12.5 (tags/v3.12.5:ff3bc82, Aug  6 2024, 20:45:27) [MSC v.1940 64 bit (AMD64)].\n",
      "Hello Python World!\n"
     ]
    }
   ],
   "source": [
    "import sys\n",
    "python_version = sys.version\n",
    "print(\"NAME:Rishav\\nBATCH:B6\\nSAP ID:590018271\")\n",
    "print(f\"I am using Python version {python_version}.\")\n",
    "\n",
    "\n",
    "print(\"Hello Python World!\")"
   ]
  },
  {
   "cell_type": "markdown",
   "id": "e9932d32-b0d4-4c59-9e9d-0e776c8bd836",
   "metadata": {},
   "source": [
    "Write a Python program that takes a user's first and last name as input and prints them in reverse order with a space between them."
   ]
  },
  {
   "cell_type": "code",
   "execution_count": 6,
   "id": "59300a49-b0c9-474b-88bd-940b1501d142",
   "metadata": {},
   "outputs": [
    {
     "name": "stdin",
     "output_type": "stream",
     "text": [
      "enter the first name  Rishav\n",
      "enter the second name  K\n"
     ]
    },
    {
     "name": "stdout",
     "output_type": "stream",
     "text": [
      "K vahsiR\n"
     ]
    }
   ],
   "source": [
    "str1=input(\"enter the first name \")\n",
    "str2=input(\"enter the second name \")\n",
    "print((str2[::-1] + \" \"+ str1[::-1]))"
   ]
  },
  {
   "cell_type": "markdown",
   "id": "5c6cb630-9419-4c8e-be9d-bcf326456ad3",
   "metadata": {},
   "source": [
    "Write a Python program that takes an input number from the user, converts it to different numeric data types (integer, float, and complex), and displays the converted values."
   ]
  },
  {
   "cell_type": "code",
   "execution_count": 8,
   "id": "9626d2fb-b011-45d5-b7d1-2402d1511a0a",
   "metadata": {},
   "outputs": [
    {
     "name": "stdin",
     "output_type": "stream",
     "text": [
      "Enter a number:  5\n"
     ]
    },
    {
     "name": "stdout",
     "output_type": "stream",
     "text": [
      "Integer: 5\n",
      "Float: 5.0\n",
      "Complex: (5+0j)\n"
     ]
    }
   ],
   "source": [
    "user_input = input(\"Enter a number: \")\n",
    "\n",
    "print(\"Integer:\", int(user_input))\n",
    "print(\"Float:\", float(user_input))\n",
    "print(\"Complex:\", complex(user_input))"
   ]
  },
  {
   "cell_type": "markdown",
   "id": "8f9f17a4-9212-4b47-8acf-ece725f11b01",
   "metadata": {},
   "source": [
    "Create a Python script that calculates the area of a rectangle. And Modify the rectangle area program to format the output so that it displays the area with two decimal places."
   ]
  },
  {
   "cell_type": "code",
   "execution_count": 9,
   "id": "5c56338c-03fa-4b82-aa47-ede95bdb0ff4",
   "metadata": {},
   "outputs": [
    {
     "name": "stdin",
     "output_type": "stream",
     "text": [
      "Enter the lenght of rectangle :  30\n",
      "Enter the width of rectangle :  25\n"
     ]
    },
    {
     "name": "stdout",
     "output_type": "stream",
     "text": [
      "The area is 750.00\n"
     ]
    }
   ],
   "source": [
    "length=float(input(\"Enter the lenght of rectangle : \"))\n",
    "width=float(input(\"Enter the width of rectangle : \"))\n",
    "area=length*width\n",
    "print(f\"The area is {area:.2f}\")"
   ]
  },
  {
   "cell_type": "markdown",
   "id": "7db737a8-9610-4601-b162-36dd593ef29f",
   "metadata": {},
   "source": [
    "Write a Python script that takes three numbers as input and prints their average using the % method for string formatting"
   ]
  },
  {
   "cell_type": "code",
   "execution_count": 11,
   "id": "8b62f667-bc8d-4a1b-8cd5-8ab3f70f72f3",
   "metadata": {},
   "outputs": [
    {
     "name": "stdin",
     "output_type": "stream",
     "text": [
      "enter the first number : 4\n",
      "enter the second number : 6\n",
      "enter the third number : 8\n"
     ]
    },
    {
     "name": "stdout",
     "output_type": "stream",
     "text": [
      "The average of given number is 6.00\n"
     ]
    }
   ],
   "source": [
    "num1=float(input(\"enter the first number :\"))\n",
    "\n",
    "num2=float(input(\"enter the second number :\"))\n",
    "\n",
    "num3=float(input(\"enter the third number :\"))\n",
    "\n",
    "avg=(num1+num2+num3)/3 \n",
    "print(\"The average of given number is %.2f\" %avg)"
   ]
  },
  {
   "cell_type": "markdown",
   "id": "5aaa3415-08d8-4ba8-8dc0-7119a48de367",
   "metadata": {},
   "source": [
    "Write a Python program that asks the user for a number and determines whether it is positive, negative, or zero.\n",
    "\n",
    "Implement a loop that continues to ask the user for a number until they enter 'exit'.\n",
    "\n",
    "Use break to exit the loop and continue to prompt for a new number if the input is not 'exit'."
   ]
  },
  {
   "cell_type": "code",
   "execution_count": 13,
   "id": "1708f9a2-ae16-42e7-a541-c6351f086158",
   "metadata": {},
   "outputs": [
    {
     "name": "stdin",
     "output_type": "stream",
     "text": [
      "Enter a number (or type 'exit' to quit):  9\n"
     ]
    },
    {
     "name": "stdout",
     "output_type": "stream",
     "text": [
      "9.0 is a positive number.\n"
     ]
    },
    {
     "name": "stdin",
     "output_type": "stream",
     "text": [
      "Enter a number (or type 'exit' to quit):  -3\n"
     ]
    },
    {
     "name": "stdout",
     "output_type": "stream",
     "text": [
      "-3.0 is a negative number.\n"
     ]
    },
    {
     "name": "stdin",
     "output_type": "stream",
     "text": [
      "Enter a number (or type 'exit' to quit):  0\n"
     ]
    },
    {
     "name": "stdout",
     "output_type": "stream",
     "text": [
      "0.0 is zero.\n"
     ]
    },
    {
     "name": "stdin",
     "output_type": "stream",
     "text": [
      "Enter a number (or type 'exit' to quit):  exit\n"
     ]
    }
   ],
   "source": [
    "while True:\n",
    "    user_input = input(\"Enter a number (or type 'exit' to quit): \")\n",
    "\n",
    "    if user_input.lower() == 'exit':\n",
    "        break\n",
    "\n",
    "    try:\n",
    "        num = float(user_input)\n",
    "        if num > 0:\n",
    "            print(f\"{num} is a positive number.\")\n",
    "        elif num < 0:\n",
    "            print(f\"{num} is a negative number.\")\n",
    "        else:\n",
    "            print(f\"{num} is zero.\")\n",
    "    except ValueError:\n",
    "        print(\"Invalid input. Please enter a number or type 'exit' to quit.\")\n",
    "        continue"
   ]
  },
  {
   "cell_type": "markdown",
   "id": "13de88dc-7dcc-48f5-8dce-2055815449cf",
   "metadata": {},
   "source": [
    "Create a Python script that takes two numbers as input and prints whether both numbers are even, odd, or one of each using relational and logical operators"
   ]
  },
  {
   "cell_type": "code",
   "execution_count": 14,
   "id": "55a3aa1e-dff1-46af-ab44-74a6f1a68b1a",
   "metadata": {},
   "outputs": [
    {
     "name": "stdin",
     "output_type": "stream",
     "text": [
      "Enter the first value : 2\n",
      "Enter the  second value : 5\n"
     ]
    },
    {
     "name": "stdout",
     "output_type": "stream",
     "text": [
      "One number is even and the other is odd.\n"
     ]
    }
   ],
   "source": [
    "val1 = int(input(\"Enter the first value :\"))\n",
    "                 \n",
    "val2 = int(input(\"Enter the  second value :\"))\n",
    "        \n",
    "if(val1%2==0 and val2%2==0):\n",
    "    print(\"both are even\")\n",
    "\n",
    "elif(val1%2!=0 and val2%2!=0):\n",
    "    print(\"both are odd\")\n",
    "elif(val1%2!=0 or val2%2!=0):\n",
    "    print(\"One number is even and the other is odd.\")"
   ]
  },
  {
   "cell_type": "markdown",
   "id": "b244d926-dd68-47a5-ae02-7ca616f856e5",
   "metadata": {},
   "source": [
    " Write a Python program that takes an integer input and\n",
    " prints its binary, octal, and hexadecimal equivalents using a for loop and bitwise operators"
   ]
  },
  {
   "cell_type": "code",
   "execution_count": 15,
   "id": "2e77b72d-dcdf-4dd9-8425-bf8f53ba60b3",
   "metadata": {},
   "outputs": [
    {
     "name": "stdin",
     "output_type": "stream",
     "text": [
      "Enter an integer:  6\n"
     ]
    },
    {
     "name": "stdout",
     "output_type": "stream",
     "text": [
      "Binary: 110\n",
      "Hexadecimal: 6\n",
      "Octal: 6\n"
     ]
    }
   ],
   "source": [
    "num = int(input(\"Enter an integer: \"))\n",
    "\n",
    "formats = [('Binary', bin), ('Hexadecimal', hex), ('Octal', oct)]\n",
    "\n",
    "for name, func in formats:\n",
    "    print(f\"{name}: {func(num)[2:].upper()}\")"
   ]
  },
  {
   "cell_type": "code",
   "execution_count": null,
   "id": "cc98c703-d8fa-4ef6-814b-86a4845865c1",
   "metadata": {},
   "outputs": [],
   "source": []
  }
 ],
 "metadata": {
  "kernelspec": {
   "display_name": "Python 3 (ipykernel)",
   "language": "python",
   "name": "python3"
  },
  "language_info": {
   "codemirror_mode": {
    "name": "ipython",
    "version": 3
   },
   "file_extension": ".py",
   "mimetype": "text/x-python",
   "name": "python",
   "nbconvert_exporter": "python",
   "pygments_lexer": "ipython3",
   "version": "3.12.5"
  }
 },
 "nbformat": 4,
 "nbformat_minor": 5
}
