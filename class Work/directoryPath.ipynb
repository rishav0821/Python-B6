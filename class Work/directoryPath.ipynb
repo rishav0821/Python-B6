{
 "cells": [
  {
   "cell_type": "markdown",
   "id": "5dfec46e-3c95-4f48-88fc-e05f980bf819",
   "metadata": {},
   "source": [
    "WAP that takes directory address location from user and returns a list that contains all the files int that location you can use os module to perform these actions"
   ]
  },
  {
   "cell_type": "code",
   "execution_count": 3,
   "id": "bed62dd3-b5f6-4210-9bc4-fd70f13ff668",
   "metadata": {},
   "outputs": [
    {
     "name": "stdin",
     "output_type": "stream",
     "text": [
      "Enter the directory path:  C:\\Users\\ayush\\OneDrive\\Desktop\\Java class\n"
     ]
    },
    {
     "name": "stdout",
     "output_type": "stream",
     "text": [
      "Files in the directory:\n",
      "C:\\Users\\ayush\\OneDrive\\Desktop\\Java class\\Addition.class\n",
      "C:\\Users\\ayush\\OneDrive\\Desktop\\Java class\\Addition.java\n",
      "C:\\Users\\ayush\\OneDrive\\Desktop\\Java class\\Binary.java\n",
      "C:\\Users\\ayush\\OneDrive\\Desktop\\Java class\\Calculator.class\n",
      "C:\\Users\\ayush\\OneDrive\\Desktop\\Java class\\Calculator.java\n",
      "C:\\Users\\ayush\\OneDrive\\Desktop\\Java class\\EvenorOdd.class\n",
      "C:\\Users\\ayush\\OneDrive\\Desktop\\Java class\\EvenorOdd.java\n",
      "C:\\Users\\ayush\\OneDrive\\Desktop\\Java class\\Factorial.class\n",
      "C:\\Users\\ayush\\OneDrive\\Desktop\\Java class\\Factorial.java\n",
      "C:\\Users\\ayush\\OneDrive\\Desktop\\Java class\\HelloWorld.class\n",
      "C:\\Users\\ayush\\OneDrive\\Desktop\\Java class\\HelloWorld.java\n",
      "C:\\Users\\ayush\\OneDrive\\Desktop\\Java class\\LeapYear.class\n",
      "C:\\Users\\ayush\\OneDrive\\Desktop\\Java class\\LeapYear.java\n",
      "C:\\Users\\ayush\\OneDrive\\Desktop\\Java class\\Maximum.class\n",
      "C:\\Users\\ayush\\OneDrive\\Desktop\\Java class\\Maximum.java\n",
      "C:\\Users\\ayush\\OneDrive\\Desktop\\Java class\\Multiply.java\n",
      "C:\\Users\\ayush\\OneDrive\\Desktop\\Java class\\Pattern.class\n",
      "C:\\Users\\ayush\\OneDrive\\Desktop\\Java class\\Pattern.java\n"
     ]
    }
   ],
   "source": [
    "import os\n",
    "\n",
    "def list_files_in_directory():\n",
    "    directory = input(\"Enter the directory path: \")\n",
    "    \n",
    "    if not os.path.isdir(directory):\n",
    "        print(\"The provided directory does not exist.\")\n",
    "        return []\n",
    "    \n",
    "    \n",
    "    file_list = []\n",
    "    for root, dirs, files in os.walk(directory):\n",
    "        for file in files:\n",
    "            file_list.append(os.path.join(root, file))\n",
    "    \n",
    "    return file_list\n",
    "\n",
    "\n",
    "files = list_files_in_directory()\n",
    "print(\"Files in the directory:\")\n",
    "for f in files:\n",
    "    print(f)"
   ]
  },
  {
   "cell_type": "markdown",
   "id": "6a1bf148-d40e-40eb-bbba-232307a85538",
   "metadata": {},
   "source": [
    "WAP that display current time and pause for 2 sec and display current time"
   ]
  },
  {
   "cell_type": "code",
   "execution_count": 1,
   "id": "fbc7b58a-9e38-4d17-ab53-1745b92767e1",
   "metadata": {},
   "outputs": [
    {
     "name": "stdout",
     "output_type": "stream",
     "text": [
      "Current Time: 2024-09-09 20:27:05\n",
      "Current Time: 2024-09-09 20:27:07\n"
     ]
    }
   ],
   "source": [
    "import time\n",
    "from datetime import datetime\n",
    "\n",
    "\n",
    "def display_time():\n",
    "    current_time = datetime.now().strftime('%Y-%m-%d %H:%M:%S')\n",
    "    print(\"Current Time:\", current_time)\n",
    "\n",
    "display_time()\n",
    "time.sleep(2)  \n",
    "display_time()\n"
   ]
  },
  {
   "cell_type": "code",
   "execution_count": null,
   "id": "e73f58e6-0965-40be-baf7-b52f5de04425",
   "metadata": {},
   "outputs": [],
   "source": []
  }
 ],
 "metadata": {
  "kernelspec": {
   "display_name": "Python 3 (ipykernel)",
   "language": "python",
   "name": "python3"
  },
  "language_info": {
   "codemirror_mode": {
    "name": "ipython",
    "version": 3
   },
   "file_extension": ".py",
   "mimetype": "text/x-python",
   "name": "python",
   "nbconvert_exporter": "python",
   "pygments_lexer": "ipython3",
   "version": "3.12.4"
  }
 },
 "nbformat": 4,
 "nbformat_minor": 5
}
