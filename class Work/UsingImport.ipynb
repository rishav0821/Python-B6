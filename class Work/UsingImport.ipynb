{
 "cells": [
  {
   "cell_type": "code",
   "execution_count": 8,
   "id": "6034e740-141f-4b2d-bc09-2b641c151fd3",
   "metadata": {},
   "outputs": [],
   "source": [
    "import mymodule"
   ]
  },
  {
   "cell_type": "code",
   "execution_count": 9,
   "id": "ec71d69a-6983-47d7-b9c5-5d5ba12d7ec7",
   "metadata": {},
   "outputs": [
    {
     "data": {
      "text/plain": [
       "3.4"
      ]
     },
     "execution_count": 9,
     "metadata": {},
     "output_type": "execute_result"
    }
   ],
   "source": [
    "mymodule.PI"
   ]
  },
  {
   "cell_type": "code",
   "execution_count": 11,
   "id": "43431af6-8dbc-4258-a12f-6d8901e67b42",
   "metadata": {},
   "outputs": [],
   "source": [
    "import mymodule2"
   ]
  },
  {
   "cell_type": "code",
   "execution_count": 12,
   "id": "cf2bb00d-0af5-4357-8b25-711f8e2428dd",
   "metadata": {},
   "outputs": [
    {
     "data": {
      "text/plain": [
       "3.145677"
      ]
     },
     "execution_count": 12,
     "metadata": {},
     "output_type": "execute_result"
    }
   ],
   "source": [
    "mymodule2.PI"
   ]
  },
  {
   "cell_type": "code",
   "execution_count": 2,
   "id": "313097e4",
   "metadata": {},
   "outputs": [
    {
     "name": "stdout",
     "output_type": "stream",
     "text": [
      "executed as main file\n",
      "addition of1 and 2 =3\n"
     ]
    }
   ],
   "source": [
    "!python mymodule.py"
   ]
  }
 ],
 "metadata": {
  "kernelspec": {
   "display_name": "Python 3",
   "language": "python",
   "name": "python3"
  },
  "language_info": {
   "codemirror_mode": {
    "name": "ipython",
    "version": 3
   },
   "file_extension": ".py",
   "mimetype": "text/x-python",
   "name": "python",
   "nbconvert_exporter": "python",
   "pygments_lexer": "ipython3",
   "version": "3.12.5"
  }
 },
 "nbformat": 4,
 "nbformat_minor": 5
}
