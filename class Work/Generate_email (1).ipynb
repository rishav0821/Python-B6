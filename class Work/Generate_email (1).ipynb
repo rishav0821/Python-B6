{
 "cells": [
  {
   "cell_type": "markdown",
   "id": "0ae7e979-3465-435d-8441-ea185d4547e9",
   "metadata": {},
   "source": [
    "\n",
    "Write a program that takes a list of sap ids and returns a list of email addresses\r\n",
    "\r\n",
    "1 without using map , filter lambda or list comprehension\r\n",
    "2 using map, Filter,lambda without using list comprehension\r\n",
    "3 using list comprehension"
   ]
  },
  {
   "cell_type": "code",
   "execution_count": 1,
   "id": "464e204f-ff79-4a7c-9fcf-3f146802609d",
   "metadata": {},
   "outputs": [
    {
     "name": "stdin",
     "output_type": "stream",
     "text": [
      "enter no of element : 3\n",
      "enter SAP ID : 123\n",
      "enter SAP ID : 65\n",
      "enter SAP ID : 987\n"
     ]
    },
    {
     "name": "stdout",
     "output_type": "stream",
     "text": [
      "['123@stu.upes.ac.in', '65@stu.upes.ac.in', '987@stu.upes.ac.in']\n"
     ]
    }
   ],
   "source": [
    "def generate_emails_addresses(sap_ids):\n",
    "    emails = []\n",
    "    for sap_id in sap_ids:\n",
    "    \n",
    "        email = sap_id + \"@stu.upes.ac.in\"\n",
    "        emails.append(email)\n",
    "    return emails\n",
    "\n",
    "\n",
    "Sap=[]\n",
    "n=int(input(\"enter no of element :\"))\n",
    "for i in range(n):\n",
    "    id=input(\"enter SAP ID :\")\n",
    "    Sap.append(id)\n",
    "\n",
    "print(generate_emails_addresses(Sap))\n"
   ]
  },
  {
   "cell_type": "code",
   "execution_count": 3,
   "id": "a81d6c81-5783-4b7f-bd56-3e3d26eb780b",
   "metadata": {},
   "outputs": [
    {
     "name": "stdout",
     "output_type": "stream",
     "text": [
      "['12345@stu.upes.ac.in', '67890@stu.upes.ac.in', '24680@stu.upes.ac.in']\n"
     ]
    }
   ],
   "source": [
    "def generate_emails(sap_ids):\n",
    "    return list(map(lambda sap_id: sap_id + \"@stu.upes.ac.in\", sap_ids))\n",
    "\n",
    "sap_ids = [\"12345\", \"67890\", \"24680\"]\n",
    "print(generate_emails(sap_ids))\n"
   ]
  },
  {
   "cell_type": "code",
   "execution_count": 2,
   "id": "48f01d75-a84b-4ae1-9c7a-831bb81d4b77",
   "metadata": {},
   "outputs": [
    {
     "name": "stdout",
     "output_type": "stream",
     "text": [
      "['12345@stu.upes.ac.in', '67890@stu.upes.ac.in', 'Ayush@stu.upes.ac.in']\n"
     ]
    }
   ],
   "source": [
    "def generate_emails(sap_ids):\n",
    "    return [sap_id + \"@stu.upes.ac.in\" for sap_id in sap_ids]\n",
    "\n",
    "sap_ids = [\"12345\", \"67890\", \"Ayush\"]\n",
    "print(generate_emails(sap_ids))\n"
   ]
  },
  {
   "cell_type": "code",
   "execution_count": null,
   "id": "033b8acd-1172-466d-ab0e-47920653c09b",
   "metadata": {},
   "outputs": [],
   "source": []
  }
 ],
 "metadata": {
  "kernelspec": {
   "display_name": "Python 3 (ipykernel)",
   "language": "python",
   "name": "python3"
  },
  "language_info": {
   "codemirror_mode": {
    "name": "ipython",
    "version": 3
   },
   "file_extension": ".py",
   "mimetype": "text/x-python",
   "name": "python",
   "nbconvert_exporter": "python",
   "pygments_lexer": "ipython3",
   "version": "3.12.4"
  }
 },
 "nbformat": 4,
 "nbformat_minor": 5
}
