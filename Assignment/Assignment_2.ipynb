{
 "cells": [
  {
   "cell_type": "markdown",
   "id": "ed245138-bd02-486e-93de-2243bef34d78",
   "metadata": {},
   "source": [
    "Write a function greet that takes two arguments: name (a string) and greeting (a string with a default value of \"Hello\"). The function should return a greeting message."
   ]
  },
  {
   "cell_type": "code",
   "execution_count": 1,
   "id": "9806198a-051f-4c83-aece-8de091778650",
   "metadata": {},
   "outputs": [
    {
     "name": "stdout",
     "output_type": "stream",
     "text": [
      "Hello Alice\n",
      "Good Morning Bob\n"
     ]
    }
   ],
   "source": [
    "def greet(name, greeting=\"Hello\"):\n",
    "    return f\"{greeting} {name}\"\n",
    "\n",
    "\n",
    "print(greet(\"Alice\"))                \n",
    "print(greet(\"Bob\", \"Good Morning\"))  \n"
   ]
  },
  {
   "cell_type": "markdown",
   "id": "4f1e3eac-ff4c-498f-a174-ed13df4f4fd9",
   "metadata": {},
   "source": [
    "Create a function create_profile that takes arguments for name, age, and city as named arguments. The function should return a string like \"Name: Alice, Age: 25, City: New York\". Ensure that the age argument has a default value of 18."
   ]
  },
  {
   "cell_type": "code",
   "execution_count": 2,
   "id": "376ff66f-2cbb-43f4-bd15-60348130e159",
   "metadata": {},
   "outputs": [
    {
     "name": "stdout",
     "output_type": "stream",
     "text": [
      " Name: John, Age: 18, City: Chicago\n",
      " Name: Emma, Age: 22, City: Los Angeles\n"
     ]
    }
   ],
   "source": [
    "def create_profile(*,name, age=18,city):\n",
    "    return f\" Name: {name}, Age: {age}, City: {city}\"\n",
    "\n",
    "print(create_profile(name=\"John\", city=\"Chicago\"))  \n",
    "\n",
    "print(create_profile(name=\"Emma\", age=22, city=\"Los Angeles\"))  \n"
   ]
  },
  {
   "cell_type": "markdown",
   "id": "a263f6d2-a5c5-4f28-9dc8-f532e4b0954f",
   "metadata": {},
   "source": [
    "Write a function sum_numbers that takes any number of positional arguments (args) and keyword arguments (*kwargs). It should:\n",
    "\n",
    "    Return the sum of all *args if they are numbers.\n",
    "    \n",
    "    \n",
    "    Return a dictionary of all keyword arguments."
   ]
  },
  {
   "cell_type": "code",
   "execution_count": 3,
   "id": "c6815756-4067-48f1-8805-eb9c3d94b0c3",
   "metadata": {},
   "outputs": [
    {
     "name": "stdout",
     "output_type": "stream",
     "text": [
      "(6, {})\n",
      "(3, {'x': 4, 'y': 5})\n"
     ]
    }
   ],
   "source": [
    "def sum_numbers(*args, **kwargs):\n",
    "    total_sum = sum(arg for arg in args if isinstance(arg, (int, float)))\n",
    "    \n",
    "    \n",
    "    return total_sum, kwargs\n",
    "\n",
    "\n",
    "print(sum_numbers(1, 2, 3))  \n",
    "\n",
    "print(sum_numbers(1, 2, x=4, y=5))  \n",
    "\n"
   ]
  },
  {
   "cell_type": "markdown",
   "id": "8a5dd02d-be02-4c61-98d9-55fa316f9ca6",
   "metadata": {},
   "source": [
    "Write a function that uses map and a lambda to return a list where each element is squared."
   ]
  },
  {
   "cell_type": "code",
   "execution_count": 4,
   "id": "12bd7ff5-422c-487e-8970-5a08c00ae660",
   "metadata": {},
   "outputs": [
    {
     "name": "stdout",
     "output_type": "stream",
     "text": [
      "[1, 4, 9, 16]\n"
     ]
    }
   ],
   "source": [
    "def square_list(lst):\n",
    "    return list(map(lambda x: x**2, lst))\n",
    "\n",
    "print(square_list([1, 2, 3, 4]))  \n",
    "\n"
   ]
  },
  {
   "cell_type": "markdown",
   "id": "933fbe2a-cb5c-47fb-9932-1ef5c591073b",
   "metadata": {},
   "source": [
    "Write a function that filters out all odd numbers from a list using filter and a lambda function."
   ]
  },
  {
   "cell_type": "code",
   "execution_count": 5,
   "id": "a62da33d-1b3c-42bb-99fc-2b69cfdd6ff0",
   "metadata": {},
   "outputs": [
    {
     "data": {
      "text/plain": [
       "[2, 4]"
      ]
     },
     "execution_count": 5,
     "metadata": {},
     "output_type": "execute_result"
    }
   ],
   "source": [
    "def filter_odd_numbers(lst):\n",
    "    return list(filter(lambda x:x%2==0,lst))\n",
    "\n",
    "filter_odd_numbers([1, 2, 3, 4, 5])  \n"
   ]
  },
  {
   "cell_type": "markdown",
   "id": "484ad016-7a18-4782-8f8d-1feaceeba615",
   "metadata": {},
   "source": [
    "Create a list comprehension that takes a list of numbers and returns a list of their squares."
   ]
  },
  {
   "cell_type": "code",
   "execution_count": 6,
   "id": "92716f37-9dd8-4226-93b7-67a94ce563b6",
   "metadata": {},
   "outputs": [
    {
     "name": "stdin",
     "output_type": "stream",
     "text": [
      "Enter a number: 5\n"
     ]
    },
    {
     "name": "stdout",
     "output_type": "stream",
     "text": [
      "[0, 1, 4, 9, 16]\n"
     ]
    }
   ],
   "source": [
    "n=int(input(\"Enter a number:\"))\n",
    "squares = [x**2 for x in range(n)]\n",
    "\n",
    "print(squares)"
   ]
  },
  {
   "cell_type": "markdown",
   "id": "3a87fb5d-ad6d-4321-97cd-bc3dbe9478bc",
   "metadata": {},
   "source": [
    "Use a list comprehension to create a list of even numbers from 1 to 20."
   ]
  },
  {
   "cell_type": "code",
   "execution_count": 7,
   "id": "0acdf178-92b4-46db-944c-05605c447cd5",
   "metadata": {},
   "outputs": [
    {
     "name": "stdout",
     "output_type": "stream",
     "text": [
      "[2, 4, 6, 8, 10, 12, 14, 16, 18, 20]\n"
     ]
    }
   ],
   "source": [
    "Even=[x for x in range(1, 21) if x % 2 == 0]  \n",
    "print(Even)"
   ]
  },
  {
   "cell_type": "markdown",
   "id": "8c7b3967-4cdc-44f9-a251-4fa20b13b2b1",
   "metadata": {},
   "source": [
    "Write a function file_operations that creates a directory named \"test_folder\" using os.makedirs(). Then, pause the execution for 3 seconds using time.sleep(), and finally, delete the directory using os.rmdir()."
   ]
  },
  {
   "cell_type": "code",
   "execution_count": 18,
   "id": "769d6ef6-08e9-4ab4-95ee-789ad8c50b66",
   "metadata": {},
   "outputs": [
    {
     "name": "stdout",
     "output_type": "stream",
     "text": [
      "Directory 'test_folder' created.\n",
      "Directory 'test_folder' deleted.\n"
     ]
    }
   ],
   "source": [
    "\n",
    "import os\n",
    "import time\n",
    "\n",
    "def file_operations():\n",
    "    \n",
    "    folder_name = \"test_folder\"\n",
    "    \n",
    "    try:\n",
    "        os.makedirs(folder_name, exist_ok=True)\n",
    "        print(f\"Directory '{folder_name}' created.\")\n",
    "    except Exception as e:\n",
    "        print(f\"Error creating directory: {e}\")\n",
    "    \n",
    "\n",
    "    time.sleep(3)\n",
    "    \n",
    "   \n",
    "    try:\n",
    "        os.rmdir(folder_name)\n",
    "        print(f\"Directory '{folder_name}' deleted.\")\n",
    "    except Exception as e:\n",
    "        print(f\"Error deleting directory: {e}\")\n",
    "\n",
    "# Example usage:\n",
    "if __name__ == \"__main__\":\n",
    "    file_operations()\n",
    "\n",
    "\n"
   ]
  },
  {
   "cell_type": "markdown",
   "id": "a52d17c5-4447-4d55-b2d4-ad9745150261",
   "metadata": {},
   "source": [
    "Write a Python script that imports only sleep from the time module and renames it to pause. Use it to pause execution for 2 seconds and print \"Paused execution...\"."
   ]
  },
  {
   "cell_type": "code",
   "execution_count": 12,
   "id": "dc78bffd-bf61-43dc-bf71-d306c83a7de9",
   "metadata": {},
   "outputs": [
    {
     "name": "stdout",
     "output_type": "stream",
     "text": [
      "Paused execution...\n"
     ]
    }
   ],
   "source": [
    "from time import sleep as pause\n",
    "\n",
    "pause(2)\n",
    "\n",
    "print(\"Paused execution...\")\n"
   ]
  },
  {
   "cell_type": "markdown",
   "id": "72b8b294-c9aa-42aa-a7b4-f78b8720c016",
   "metadata": {},
   "source": [
    "Write a recursive function flatten_list that can flatten a nested list of any depth using *args and **kwargs."
   ]
  },
  {
   "cell_type": "code",
   "execution_count": 19,
   "id": "bb1a17e7-dc69-45be-a4ff-d69e3bc7966c",
   "metadata": {},
   "outputs": [
    {
     "name": "stdout",
     "output_type": "stream",
     "text": [
      "[1, 2, 3, 4, 5, 6]\n",
      "[1, 2, 3, 4, 5]\n"
     ]
    }
   ],
   "source": [
    "def flatten_list(nested_list, *args, **kwargs):\n",
    "    flat_list = []\n",
    "    \n",
    "\n",
    "    for item in nested_list:\n",
    "       \n",
    "        if isinstance(item, list):\n",
    "            flat_list.extend(flatten_list(item))\n",
    "        \n",
    "        else:\n",
    "            flat_list.append(item)\n",
    "    \n",
    "    return flat_list\n",
    "\n",
    "# Example usage:\n",
    "print(flatten_list([1, [2, 3], [[4, 5], 6]]))  \n",
    "print(flatten_list([[1, 2], [3, [4, [5]]]]))   \n"
   ]
  },
  {
   "cell_type": "markdown",
   "id": "04162b29-1e5d-4b48-8e50-13634bf8e44e",
   "metadata": {},
   "source": []
  }
 ],
 "metadata": {
  "kernelspec": {
   "display_name": "Python 3 (ipykernel)",
   "language": "python",
   "name": "python3"
  },
  "language_info": {
   "codemirror_mode": {
    "name": "ipython",
    "version": 3
   },
   "file_extension": ".py",
   "mimetype": "text/x-python",
   "name": "python",
   "nbconvert_exporter": "python",
   "pygments_lexer": "ipython3",
   "version": "3.12.5"
  }
 },
 "nbformat": 4,
 "nbformat_minor": 5
}
