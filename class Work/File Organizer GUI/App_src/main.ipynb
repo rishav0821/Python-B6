{
 "cells": [
  {
   "cell_type": "code",
   "execution_count": null,
   "id": "e6e43a08-dd05-45dd-9491-f1340a6c8c17",
   "metadata": {},
   "outputs": [],
   "source": [
    "import tkinter as tk\n",
    "\n",
    "from file_organizer import organize_files \n",
    "\n",
    "\n",
    "root = tk.Tk()\n",
    "root.title(\"File Organizer\") \n",
    "root.geometry(\"800x250\")\n",
    "\n",
    "def buttonfn():\n",
    "    address = entry.get()\n",
    "    organize_files(address)\n",
    "\n",
    "label = tk.Label(root, text=\"Enter Address:\")\n",
    "label.pack(pady=10)  \n",
    "\n",
    "entry = tk.Entry(root, width=30)\n",
    "entry.pack(pady=5)\n",
    "\n",
    "button = tk.Button(root, text=\"Submit\", command=buttonfn)\n",
    "\n",
    "button.pack(pady=10)\n",
    "\n",
    "root.mainloop()"
   ]
  },
  {
   "cell_type": "code",
   "execution_count": null,
   "id": "b25591ae-630e-4294-9312-8cd191a36f34",
   "metadata": {},
   "outputs": [],
   "source": []
  }
 ],
 "metadata": {
  "kernelspec": {
   "display_name": "Python 3 (ipykernel)",
   "language": "python",
   "name": "python3"
  },
  "language_info": {
   "codemirror_mode": {
    "name": "ipython",
    "version": 3
   },
   "file_extension": ".py",
   "mimetype": "text/x-python",
   "name": "python",
   "nbconvert_exporter": "python",
   "pygments_lexer": "ipython3",
   "version": "3.12.5"
  }
 },
 "nbformat": 4,
 "nbformat_minor": 5
}
